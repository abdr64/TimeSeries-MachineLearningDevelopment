{
  "nbformat": 4,
  "nbformat_minor": 0,
  "metadata": {
    "colab": {
      "name": "Submission 02 Time Series Perbaikan 01.ipynb",
      "provenance": [],
      "collapsed_sections": []
    },
    "kernelspec": {
      "name": "python3",
      "display_name": "Python 3"
    }
  },
  "cells": [
    {
      "cell_type": "code",
      "metadata": {
        "id": "r0iFKhk9S2zo",
        "colab_type": "code",
        "colab": {}
      },
      "source": [
        "import numpy as np\n",
        "import pandas as pd\n",
        "import tensorflow as tf\n",
        "import matplotlib.pyplot as plt"
      ],
      "execution_count": 1,
      "outputs": []
    },
    {
      "cell_type": "code",
      "metadata": {
        "id": "8t_ZrlXCTULW",
        "colab_type": "code",
        "colab": {}
      },
      "source": [
        "# rujukan dataset : https://www.kaggle.com/aturner374/eighty-years-of-canadian-climate-data\n",
        "data = pd.read_csv('Canadian_climate_history.csv')"
      ],
      "execution_count": 2,
      "outputs": []
    },
    {
      "cell_type": "code",
      "metadata": {
        "id": "Gr-rbLs8TbnD",
        "colab_type": "code",
        "colab": {
          "base_uri": "https://localhost:8080/",
          "height": 383
        },
        "outputId": "97dcfa92-f66a-4dfa-dd5a-1f762cd3a1b6"
      },
      "source": [
        "# memenuhi kriteria point 1: Dataset yang akan dipakai bebas, namun minimal memiliki 1000 sampel.\n",
        "data.tail()"
      ],
      "execution_count": 3,
      "outputs": [
        {
          "output_type": "execute_result",
          "data": {
            "text/html": [
              "<div>\n",
              "<style scoped>\n",
              "    .dataframe tbody tr th:only-of-type {\n",
              "        vertical-align: middle;\n",
              "    }\n",
              "\n",
              "    .dataframe tbody tr th {\n",
              "        vertical-align: top;\n",
              "    }\n",
              "\n",
              "    .dataframe thead th {\n",
              "        text-align: right;\n",
              "    }\n",
              "</style>\n",
              "<table border=\"1\" class=\"dataframe\">\n",
              "  <thead>\n",
              "    <tr style=\"text-align: right;\">\n",
              "      <th></th>\n",
              "      <th>LOCAL_DATE</th>\n",
              "      <th>MEAN_TEMPERATURE_CALGARY</th>\n",
              "      <th>TOTAL_PRECIPITATION_CALGARY</th>\n",
              "      <th>MEAN_TEMPERATURE_EDMONTON</th>\n",
              "      <th>TOTAL_PRECIPITATION_EDMONTON</th>\n",
              "      <th>MEAN_TEMPERATURE_HALIFAX</th>\n",
              "      <th>TOTAL_PRECIPITATION_HALIFAX</th>\n",
              "      <th>MEAN_TEMPERATURE_MONCTON</th>\n",
              "      <th>TOTAL_PRECIPITATION_MONCTON</th>\n",
              "      <th>MEAN_TEMPERATURE_MONTREAL</th>\n",
              "      <th>TOTAL_PRECIPITATION_MONTREAL</th>\n",
              "      <th>MEAN_TEMPERATURE_OTTAWA</th>\n",
              "      <th>TOTAL_PRECIPITATION_OTTAWA</th>\n",
              "      <th>MEAN_TEMPERATURE_QUEBEC</th>\n",
              "      <th>TOTAL_PRECIPITATION_QUEBEC</th>\n",
              "      <th>MEAN_TEMPERATURE_SASKATOON</th>\n",
              "      <th>TOTAL_PRECIPITATION_SASKATOON</th>\n",
              "      <th>MEAN_TEMPERATURE_STJOHNS</th>\n",
              "      <th>TOTAL_PRECIPITATION_STJOHNS</th>\n",
              "      <th>MEAN_TEMPERATURE_TORONTO</th>\n",
              "      <th>TOTAL_PRECIPITATION_TORONTO</th>\n",
              "      <th>MEAN_TEMPERATURE_VANCOUVER</th>\n",
              "      <th>TOTAL_PRECIPITATION_VANCOUVER</th>\n",
              "      <th>MEAN_TEMPERATURE_WHITEHORSE</th>\n",
              "      <th>TOTAL_PRECIPITATION_WHITEHORSE</th>\n",
              "      <th>MEAN_TEMPERATURE_WINNIPEG</th>\n",
              "      <th>TOTAL_PRECIPITATION_WINNIPEG</th>\n",
              "    </tr>\n",
              "  </thead>\n",
              "  <tbody>\n",
              "    <tr>\n",
              "      <th>29216</th>\n",
              "      <td>28-Dec-2019 00:00:00</td>\n",
              "      <td>-7.7</td>\n",
              "      <td>0.0</td>\n",
              "      <td>-10.4</td>\n",
              "      <td>0.0</td>\n",
              "      <td>2.1</td>\n",
              "      <td>0.0</td>\n",
              "      <td>0.5</td>\n",
              "      <td>NaN</td>\n",
              "      <td>1.3</td>\n",
              "      <td>0.0</td>\n",
              "      <td>-0.5</td>\n",
              "      <td>0.0</td>\n",
              "      <td>-0.5</td>\n",
              "      <td>0.3</td>\n",
              "      <td>-15.3</td>\n",
              "      <td>NaN</td>\n",
              "      <td>-4.3</td>\n",
              "      <td>5.3</td>\n",
              "      <td>3.0</td>\n",
              "      <td>0.2</td>\n",
              "      <td>5.3</td>\n",
              "      <td>3.0</td>\n",
              "      <td>-9.0</td>\n",
              "      <td>NaN</td>\n",
              "      <td>-4.7</td>\n",
              "      <td>0.0</td>\n",
              "    </tr>\n",
              "    <tr>\n",
              "      <th>29217</th>\n",
              "      <td>29-Dec-2019 00:00:00</td>\n",
              "      <td>-3.3</td>\n",
              "      <td>0.0</td>\n",
              "      <td>-8.6</td>\n",
              "      <td>0.0</td>\n",
              "      <td>-2.7</td>\n",
              "      <td>0.0</td>\n",
              "      <td>-3.8</td>\n",
              "      <td>NaN</td>\n",
              "      <td>-0.9</td>\n",
              "      <td>0.0</td>\n",
              "      <td>-3.4</td>\n",
              "      <td>0.8</td>\n",
              "      <td>-4.9</td>\n",
              "      <td>0.0</td>\n",
              "      <td>-15.6</td>\n",
              "      <td>NaN</td>\n",
              "      <td>-0.9</td>\n",
              "      <td>5.6</td>\n",
              "      <td>1.1</td>\n",
              "      <td>7.8</td>\n",
              "      <td>7.1</td>\n",
              "      <td>2.4</td>\n",
              "      <td>-2.8</td>\n",
              "      <td>NaN</td>\n",
              "      <td>-10.6</td>\n",
              "      <td>1.7</td>\n",
              "    </tr>\n",
              "    <tr>\n",
              "      <th>29218</th>\n",
              "      <td>30-Dec-2019 00:00:00</td>\n",
              "      <td>-1.6</td>\n",
              "      <td>0.0</td>\n",
              "      <td>-10.3</td>\n",
              "      <td>0.0</td>\n",
              "      <td>-3.5</td>\n",
              "      <td>0.0</td>\n",
              "      <td>-4.1</td>\n",
              "      <td>NaN</td>\n",
              "      <td>-2.3</td>\n",
              "      <td>13.4</td>\n",
              "      <td>-2.7</td>\n",
              "      <td>12.7</td>\n",
              "      <td>-5.7</td>\n",
              "      <td>2.7</td>\n",
              "      <td>-15.0</td>\n",
              "      <td>NaN</td>\n",
              "      <td>-0.7</td>\n",
              "      <td>0.7</td>\n",
              "      <td>5.6</td>\n",
              "      <td>8.0</td>\n",
              "      <td>7.5</td>\n",
              "      <td>5.8</td>\n",
              "      <td>-0.1</td>\n",
              "      <td>NaN</td>\n",
              "      <td>-10.9</td>\n",
              "      <td>0.1</td>\n",
              "    </tr>\n",
              "    <tr>\n",
              "      <th>29219</th>\n",
              "      <td>31-Dec-2019 00:00:00</td>\n",
              "      <td>4.3</td>\n",
              "      <td>0.0</td>\n",
              "      <td>-2.6</td>\n",
              "      <td>0.0</td>\n",
              "      <td>0.0</td>\n",
              "      <td>11.4</td>\n",
              "      <td>-1.0</td>\n",
              "      <td>NaN</td>\n",
              "      <td>-0.2</td>\n",
              "      <td>11.4</td>\n",
              "      <td>-0.7</td>\n",
              "      <td>6.6</td>\n",
              "      <td>-3.5</td>\n",
              "      <td>8.2</td>\n",
              "      <td>-8.2</td>\n",
              "      <td>NaN</td>\n",
              "      <td>-1.2</td>\n",
              "      <td>0.0</td>\n",
              "      <td>0.4</td>\n",
              "      <td>2.0</td>\n",
              "      <td>8.4</td>\n",
              "      <td>21.2</td>\n",
              "      <td>-1.1</td>\n",
              "      <td>NaN</td>\n",
              "      <td>-12.3</td>\n",
              "      <td>0.0</td>\n",
              "    </tr>\n",
              "    <tr>\n",
              "      <th>29220</th>\n",
              "      <td>01-Jan-2020 00:00:00</td>\n",
              "      <td>-0.3</td>\n",
              "      <td>0.0</td>\n",
              "      <td>-4.0</td>\n",
              "      <td>0.0</td>\n",
              "      <td>1.8</td>\n",
              "      <td>0.4</td>\n",
              "      <td>0.2</td>\n",
              "      <td>NaN</td>\n",
              "      <td>0.2</td>\n",
              "      <td>0.9</td>\n",
              "      <td>-0.5</td>\n",
              "      <td>0.0</td>\n",
              "      <td>-2.8</td>\n",
              "      <td>1.5</td>\n",
              "      <td>-7.9</td>\n",
              "      <td>NaN</td>\n",
              "      <td>-0.4</td>\n",
              "      <td>6.4</td>\n",
              "      <td>-1.7</td>\n",
              "      <td>0.0</td>\n",
              "      <td>7.8</td>\n",
              "      <td>0.8</td>\n",
              "      <td>-4.2</td>\n",
              "      <td>NaN</td>\n",
              "      <td>-7.0</td>\n",
              "      <td>0.0</td>\n",
              "    </tr>\n",
              "  </tbody>\n",
              "</table>\n",
              "</div>"
            ],
            "text/plain": [
              "                 LOCAL_DATE  ...  TOTAL_PRECIPITATION_WINNIPEG\n",
              "29216  28-Dec-2019 00:00:00  ...                           0.0\n",
              "29217  29-Dec-2019 00:00:00  ...                           1.7\n",
              "29218  30-Dec-2019 00:00:00  ...                           0.1\n",
              "29219  31-Dec-2019 00:00:00  ...                           0.0\n",
              "29220  01-Jan-2020 00:00:00  ...                           0.0\n",
              "\n",
              "[5 rows x 27 columns]"
            ]
          },
          "metadata": {
            "tags": []
          },
          "execution_count": 3
        }
      ]
    },
    {
      "cell_type": "code",
      "metadata": {
        "id": "a2LYuLTATdvx",
        "colab_type": "code",
        "colab": {
          "base_uri": "https://localhost:8080/",
          "height": 487
        },
        "outputId": "1a4ea6a5-7f8e-4aa6-bfab-b02dfe695464"
      },
      "source": [
        "data.isnull().sum()"
      ],
      "execution_count": 4,
      "outputs": [
        {
          "output_type": "execute_result",
          "data": {
            "text/plain": [
              "LOCAL_DATE                           0\n",
              "MEAN_TEMPERATURE_CALGARY           189\n",
              "TOTAL_PRECIPITATION_CALGARY        173\n",
              "MEAN_TEMPERATURE_EDMONTON         7657\n",
              "TOTAL_PRECIPITATION_EDMONTON      7646\n",
              "MEAN_TEMPERATURE_HALIFAX          7164\n",
              "TOTAL_PRECIPITATION_HALIFAX       7226\n",
              "MEAN_TEMPERATURE_MONCTON          2336\n",
              "TOTAL_PRECIPITATION_MONCTON       2767\n",
              "MEAN_TEMPERATURE_MONTREAL          755\n",
              "TOTAL_PRECIPITATION_MONTREAL       730\n",
              "MEAN_TEMPERATURE_OTTAWA             76\n",
              "TOTAL_PRECIPITATION_OTTAWA          81\n",
              "MEAN_TEMPERATURE_QUEBEC           1214\n",
              "TOTAL_PRECIPITATION_QUEBEC        1227\n",
              "MEAN_TEMPERATURE_SASKATOON        2473\n",
              "TOTAL_PRECIPITATION_SASKATOON     3755\n",
              "MEAN_TEMPERATURE_STJOHNS           808\n",
              "TOTAL_PRECIPITATION_STJOHNS        822\n",
              "MEAN_TEMPERATURE_TORONTO            74\n",
              "TOTAL_PRECIPITATION_TORONTO         80\n",
              "MEAN_TEMPERATURE_VANCOUVER          53\n",
              "TOTAL_PRECIPITATION_VANCOUVER       55\n",
              "MEAN_TEMPERATURE_WHITEHORSE       1691\n",
              "TOTAL_PRECIPITATION_WHITEHORSE    4095\n",
              "MEAN_TEMPERATURE_WINNIPEG          124\n",
              "TOTAL_PRECIPITATION_WINNIPEG       247\n",
              "dtype: int64"
            ]
          },
          "metadata": {
            "tags": []
          },
          "execution_count": 4
        }
      ]
    },
    {
      "cell_type": "code",
      "metadata": {
        "id": "EguNQvwQYOpI",
        "colab_type": "code",
        "colab": {}
      },
      "source": [
        "data = data.dropna()"
      ],
      "execution_count": 5,
      "outputs": []
    },
    {
      "cell_type": "code",
      "metadata": {
        "id": "JQhGawDSZupe",
        "colab_type": "code",
        "colab": {
          "base_uri": "https://localhost:8080/",
          "height": 250
        },
        "outputId": "59df011f-093b-48b5-a8eb-8b5cbf4559c4"
      },
      "source": [
        "# Telah saya lakukan sesuai notes point 2 untuk plotting\n",
        "dates = data['LOCAL_DATE'].values\n",
        "temp = data['MEAN_TEMPERATURE_TORONTO'].values\n",
        "\n",
        "plt.figure(figsize=(15,5))\n",
        "plt.plot(dates, temp)\n",
        "plt.title('Temperature average in TORONTO',\n",
        "         fontsize=20);"
      ],
      "execution_count": 14,
      "outputs": [
        {
          "output_type": "display_data",
          "data": {
            "image/png": "[encoded data removed]",
            "text/plain": [
              "<Figure size 1080x360 with 1 Axes>"
            ]
          },
          "metadata": {
            "tags": [],
            "needs_background": "light"
          }
        }
      ]
    },
    {
      "cell_type": "code",
      "metadata": {
        "id": "_JxzEwdQigf8",
        "colab_type": "code",
        "colab": {}
      },
      "source": [
        "from sklearn.model_selection import train_test_split\n",
        "# Memenuhi kriteria point 3: Validation set sebesar 20% dari total dataset.\n",
        "train_date, test_date, temp_train, temp_test = train_test_split(dates, temp, test_size=.2)"
      ],
      "execution_count": 7,
      "outputs": []
    },
    {
      "cell_type": "code",
      "metadata": {
        "id": "YZ1JZ7sUbSYO",
        "colab_type": "code",
        "colab": {}
      },
      "source": [
        "def windowed_dataset(series, window_size, batch_size, shuffle_buffer):\n",
        "    series = tf.expand_dims(series, axis=-1)\n",
        "    ds = tf.data.Dataset.from_tensor_slices(series)\n",
        "    ds = ds.window(window_size + 1, shift=1, drop_remainder=True)\n",
        "    ds = ds.flat_map(lambda w: w.batch(window_size + 1))\n",
        "    ds = ds.shuffle(shuffle_buffer)\n",
        "    ds = ds.map(lambda w: (w[:-1], w[-1:]))\n",
        "    return ds.batch(batch_size).prefetch(1)"
      ],
      "execution_count": 8,
      "outputs": []
    },
    {
      "cell_type": "code",
      "metadata": {
        "id": "EE1Q1LJ15jXW",
        "colab_type": "code",
        "colab": {
          "base_uri": "https://localhost:8080/",
          "height": 34
        },
        "outputId": "89528083-66b0-40c3-abcf-b2c26e65c683"
      },
      "source": [
        "# Telah saya lakukan sesuai notes point 2 untuk menghitung MAE\n",
        "minMae = (data['MEAN_TEMPERATURE_TORONTO'].max() - data['MEAN_TEMPERATURE_TORONTO'].min()) * 10/100\n",
        "minMae"
      ],
      "execution_count": 11,
      "outputs": [
        {
          "output_type": "execute_result",
          "data": {
            "text/plain": [
              "5.62"
            ]
          },
          "metadata": {
            "tags": []
          },
          "execution_count": 11
        }
      ]
    },
    {
      "cell_type": "code",
      "metadata": {
        "id": "sHgfldhJcVYZ",
        "colab_type": "code",
        "colab": {}
      },
      "source": [
        "train_set = windowed_dataset(temp_train, window_size=60, batch_size=100, shuffle_buffer=1000)\n",
        "# memenuhi kriteria point 4: Model harus menggunakan model sequential.\n",
        "model = tf.keras.models.Sequential([\n",
        "    # memenuhi kriteria point 2: Harus menggunakan LSTM dalam arsitektur model.\n",
        "    tf.keras.layers.LSTM(60, return_sequences=True),\n",
        "    tf.keras.layers.LSTM(60, return_sequences=True),\n",
        "    tf.keras.layers.Dense(30, activation='relu'),\n",
        "    tf.keras.layers.Dropout(0.2),\n",
        "    tf.keras.layers.Dense(10, activation='relu'),\n",
        "    tf.keras.layers.Dense(1)\n",
        "])"
      ],
      "execution_count": 15,
      "outputs": []
    },
    {
      "cell_type": "code",
      "metadata": {
        "id": "r0j5RATwdjuw",
        "colab_type": "code",
        "colab": {
          "base_uri": "https://localhost:8080/",
          "height": 1000
        },
        "outputId": "6745e03f-8017-4ecb-d7aa-8ac751c8fa70"
      },
      "source": [
        "# memenuhi kriteria point 5: Harus menggunakan Learning Rate pada Optimizer.\n",
        "optimizer = tf.optimizers.SGD(lr=1.0000e-04, momentum=0.9)\n",
        "model.compile(loss=tf.keras.losses.Huber(),\n",
        "              optimizer=optimizer,\n",
        "              metrics=['mae'])\n",
        "history = model.fit(train_set, epochs=100)"
      ],
      "execution_count": 16,
      "outputs": [
        {
          "output_type": "stream",
          "text": [
            "Epoch 1/100\n",
            "WARNING:tensorflow:Layer lstm_2 is casting an input tensor from dtype float64 to the layer's dtype of float32, which is new behavior in TensorFlow 2.  The layer has dtype float32 because its dtype defaults to floatx.\n",
            "\n",
            "If you intended to run this layer in float32, you can safely ignore this warning. If in doubt, this warning is likely only an issue if you are porting a TensorFlow 1.X model to TensorFlow 2.\n",
            "\n",
            "To change all layers to have dtype float64 by default, call `tf.keras.backend.set_floatx('float64')`. To change just this layer, pass dtype='float64' to the layer constructor. If you are the author of this layer, you can disable autocasting by passing autocast=False to the base Layer constructor.\n",
            "\n",
            "134/134 [==============================] - 15s 111ms/step - loss: 10.4484 - mae: 10.9389\n",
            "Epoch 2/100\n",
            "134/134 [==============================] - 15s 111ms/step - loss: 10.3518 - mae: 10.8420\n",
            "Epoch 3/100\n",
            "134/134 [==============================] - 15s 112ms/step - loss: 10.2173 - mae: 10.7074\n",
            "Epoch 4/100\n",
            "134/134 [==============================] - 15s 112ms/step - loss: 10.0245 - mae: 10.5144\n",
            "Epoch 5/100\n",
            "134/134 [==============================] - 15s 112ms/step - loss: 9.7905 - mae: 10.2800\n",
            "Epoch 6/100\n",
            "134/134 [==============================] - 15s 112ms/step - loss: 9.4890 - mae: 9.9785\n",
            "Epoch 7/100\n",
            "134/134 [==============================] - 15s 112ms/step - loss: 9.1752 - mae: 9.6652\n",
            "Epoch 8/100\n",
            "134/134 [==============================] - 15s 112ms/step - loss: 8.9365 - mae: 9.4269\n",
            "Epoch 9/100\n",
            "134/134 [==============================] - 15s 112ms/step - loss: 8.8101 - mae: 9.3007\n",
            "Epoch 10/100\n",
            "134/134 [==============================] - 15s 112ms/step - loss: 8.7645 - mae: 9.2553\n",
            "Epoch 11/100\n",
            "134/134 [==============================] - 15s 111ms/step - loss: 8.7496 - mae: 9.2407\n",
            "Epoch 12/100\n",
            "134/134 [==============================] - 15s 112ms/step - loss: 8.7450 - mae: 9.2359\n",
            "Epoch 13/100\n",
            "134/134 [==============================] - 15s 113ms/step - loss: 8.7430 - mae: 9.2339\n",
            "Epoch 14/100\n",
            "134/134 [==============================] - 15s 113ms/step - loss: 8.7349 - mae: 9.2258\n",
            "Epoch 15/100\n",
            "134/134 [==============================] - 15s 113ms/step - loss: 8.7338 - mae: 9.2247\n",
            "Epoch 16/100\n",
            "134/134 [==============================] - 15s 112ms/step - loss: 8.7295 - mae: 9.2204\n",
            "Epoch 17/100\n",
            "134/134 [==============================] - 15s 112ms/step - loss: 8.7321 - mae: 9.2231\n",
            "Epoch 18/100\n",
            "134/134 [==============================] - 15s 112ms/step - loss: 8.7281 - mae: 9.2191\n",
            "Epoch 19/100\n",
            "134/134 [==============================] - 15s 113ms/step - loss: 8.7280 - mae: 9.2189\n",
            "Epoch 20/100\n",
            "134/134 [==============================] - 15s 112ms/step - loss: 8.7252 - mae: 9.2161\n",
            "Epoch 21/100\n",
            "134/134 [==============================] - 15s 112ms/step - loss: 8.7239 - mae: 9.2149\n",
            "Epoch 22/100\n",
            "134/134 [==============================] - 15s 112ms/step - loss: 8.7209 - mae: 9.2118\n",
            "Epoch 23/100\n",
            "134/134 [==============================] - 15s 112ms/step - loss: 8.7229 - mae: 9.2139\n",
            "Epoch 24/100\n",
            "134/134 [==============================] - 15s 113ms/step - loss: 8.7169 - mae: 9.2079\n",
            "Epoch 25/100\n",
            "134/134 [==============================] - 15s 111ms/step - loss: 8.7199 - mae: 9.2109\n",
            "Epoch 26/100\n",
            "134/134 [==============================] - 15s 112ms/step - loss: 8.7173 - mae: 9.2084\n",
            "Epoch 27/100\n",
            "134/134 [==============================] - 15s 112ms/step - loss: 8.7155 - mae: 9.2064\n",
            "Epoch 28/100\n",
            "134/134 [==============================] - 15s 112ms/step - loss: 8.7143 - mae: 9.2053\n",
            "Epoch 29/100\n",
            "134/134 [==============================] - 15s 112ms/step - loss: 8.7117 - mae: 9.2026\n",
            "Epoch 30/100\n",
            "134/134 [==============================] - 15s 113ms/step - loss: 8.7108 - mae: 9.2017\n",
            "Epoch 31/100\n",
            "134/134 [==============================] - 15s 112ms/step - loss: 8.7105 - mae: 9.2015\n",
            "Epoch 32/100\n",
            "134/134 [==============================] - 15s 113ms/step - loss: 8.7085 - mae: 9.1995\n",
            "Epoch 33/100\n",
            "134/134 [==============================] - 15s 112ms/step - loss: 8.7080 - mae: 9.1991\n",
            "Epoch 34/100\n",
            "134/134 [==============================] - 15s 114ms/step - loss: 8.7066 - mae: 9.1976\n",
            "Epoch 35/100\n",
            "134/134 [==============================] - 15s 113ms/step - loss: 8.7088 - mae: 9.1998\n",
            "Epoch 36/100\n",
            "134/134 [==============================] - 15s 112ms/step - loss: 8.7080 - mae: 9.1990\n",
            "Epoch 37/100\n",
            "134/134 [==============================] - 15s 112ms/step - loss: 8.7003 - mae: 9.1912\n",
            "Epoch 38/100\n",
            "134/134 [==============================] - 15s 112ms/step - loss: 8.7011 - mae: 9.1921\n",
            "Epoch 39/100\n",
            "134/134 [==============================] - 15s 113ms/step - loss: 8.7003 - mae: 9.1912\n",
            "Epoch 40/100\n",
            "134/134 [==============================] - 15s 112ms/step - loss: 8.6991 - mae: 9.1900\n",
            "Epoch 41/100\n",
            "134/134 [==============================] - 15s 113ms/step - loss: 8.6972 - mae: 9.1881\n",
            "Epoch 42/100\n",
            "134/134 [==============================] - 15s 113ms/step - loss: 8.7008 - mae: 9.1918\n",
            "Epoch 43/100\n",
            "134/134 [==============================] - 15s 113ms/step - loss: 8.6962 - mae: 9.1872\n",
            "Epoch 44/100\n",
            "134/134 [==============================] - 15s 112ms/step - loss: 8.6945 - mae: 9.1854\n",
            "Epoch 45/100\n",
            "134/134 [==============================] - 15s 112ms/step - loss: 8.6944 - mae: 9.1854\n",
            "Epoch 46/100\n",
            "134/134 [==============================] - 15s 112ms/step - loss: 8.6961 - mae: 9.1872\n",
            "Epoch 47/100\n",
            "134/134 [==============================] - 15s 112ms/step - loss: 8.6947 - mae: 9.1858\n",
            "Epoch 48/100\n",
            "134/134 [==============================] - 15s 112ms/step - loss: 8.6941 - mae: 9.1852\n",
            "Epoch 49/100\n",
            "134/134 [==============================] - 15s 111ms/step - loss: 8.6905 - mae: 9.1815\n",
            "Epoch 50/100\n",
            "134/134 [==============================] - 15s 112ms/step - loss: 8.6916 - mae: 9.1826\n",
            "Epoch 51/100\n",
            "134/134 [==============================] - 15s 112ms/step - loss: 8.6906 - mae: 9.1817\n",
            "Epoch 52/100\n",
            "134/134 [==============================] - 15s 112ms/step - loss: 8.6886 - mae: 9.1797\n",
            "Epoch 53/100\n",
            "134/134 [==============================] - 15s 112ms/step - loss: 8.6878 - mae: 9.1788\n",
            "Epoch 54/100\n",
            "134/134 [==============================] - 15s 114ms/step - loss: 8.6867 - mae: 9.1777\n",
            "Epoch 55/100\n",
            "134/134 [==============================] - 15s 113ms/step - loss: 8.6871 - mae: 9.1781\n",
            "Epoch 56/100\n",
            "134/134 [==============================] - 15s 112ms/step - loss: 8.6872 - mae: 9.1783\n",
            "Epoch 57/100\n",
            "134/134 [==============================] - 15s 111ms/step - loss: 8.6857 - mae: 9.1767\n",
            "Epoch 58/100\n",
            "134/134 [==============================] - 15s 111ms/step - loss: 8.6870 - mae: 9.1781\n",
            "Epoch 59/100\n",
            "134/134 [==============================] - 15s 112ms/step - loss: 8.6837 - mae: 9.1746\n",
            "Epoch 60/100\n",
            "134/134 [==============================] - 15s 112ms/step - loss: 8.6842 - mae: 9.1753\n",
            "Epoch 61/100\n",
            "134/134 [==============================] - 15s 113ms/step - loss: 8.6863 - mae: 9.1772\n",
            "Epoch 62/100\n",
            "134/134 [==============================] - 15s 112ms/step - loss: 8.6833 - mae: 9.1742\n",
            "Epoch 63/100\n",
            "134/134 [==============================] - 15s 112ms/step - loss: 8.6834 - mae: 9.1745\n",
            "Epoch 64/100\n",
            "134/134 [==============================] - 15s 112ms/step - loss: 8.6807 - mae: 9.1718\n",
            "Epoch 65/100\n",
            "134/134 [==============================] - 15s 111ms/step - loss: 8.6808 - mae: 9.1719\n",
            "Epoch 66/100\n",
            "134/134 [==============================] - 15s 112ms/step - loss: 8.6823 - mae: 9.1733\n",
            "Epoch 67/100\n",
            "134/134 [==============================] - 15s 111ms/step - loss: 8.6827 - mae: 9.1737\n",
            "Epoch 68/100\n",
            "134/134 [==============================] - 15s 112ms/step - loss: 8.6798 - mae: 9.1707\n",
            "Epoch 69/100\n",
            "134/134 [==============================] - 15s 112ms/step - loss: 8.6773 - mae: 9.1683\n",
            "Epoch 70/100\n",
            "134/134 [==============================] - 15s 113ms/step - loss: 8.6770 - mae: 9.1681\n",
            "Epoch 71/100\n",
            "134/134 [==============================] - 15s 112ms/step - loss: 8.6789 - mae: 9.1699\n",
            "Epoch 72/100\n",
            "134/134 [==============================] - 15s 112ms/step - loss: 8.6821 - mae: 9.1732\n",
            "Epoch 73/100\n",
            "134/134 [==============================] - 15s 111ms/step - loss: 8.6783 - mae: 9.1692\n",
            "Epoch 74/100\n",
            "134/134 [==============================] - 15s 112ms/step - loss: 8.6757 - mae: 9.1668\n",
            "Epoch 75/100\n",
            "134/134 [==============================] - 15s 115ms/step - loss: 8.6764 - mae: 9.1674\n",
            "Epoch 76/100\n",
            "134/134 [==============================] - 15s 112ms/step - loss: 8.6759 - mae: 9.1669\n",
            "Epoch 77/100\n",
            "134/134 [==============================] - 15s 112ms/step - loss: 8.6760 - mae: 9.1670\n",
            "Epoch 78/100\n",
            "134/134 [==============================] - 15s 112ms/step - loss: 8.6751 - mae: 9.1662\n",
            "Epoch 79/100\n",
            "134/134 [==============================] - 15s 112ms/step - loss: 8.6728 - mae: 9.1638\n",
            "Epoch 80/100\n",
            "134/134 [==============================] - 15s 112ms/step - loss: 8.6752 - mae: 9.1662\n",
            "Epoch 81/100\n",
            "134/134 [==============================] - 15s 113ms/step - loss: 8.6737 - mae: 9.1648\n",
            "Epoch 82/100\n",
            "134/134 [==============================] - 15s 112ms/step - loss: 8.6716 - mae: 9.1626\n",
            "Epoch 83/100\n",
            "134/134 [==============================] - 15s 112ms/step - loss: 8.6729 - mae: 9.1640\n",
            "Epoch 84/100\n",
            "134/134 [==============================] - 15s 112ms/step - loss: 8.6717 - mae: 9.1628\n",
            "Epoch 85/100\n",
            "134/134 [==============================] - 15s 112ms/step - loss: 8.6725 - mae: 9.1635\n",
            "Epoch 86/100\n",
            "134/134 [==============================] - 15s 112ms/step - loss: 8.6715 - mae: 9.1626\n",
            "Epoch 87/100\n",
            "134/134 [==============================] - 15s 112ms/step - loss: 8.6713 - mae: 9.1623\n",
            "Epoch 88/100\n",
            "134/134 [==============================] - 15s 112ms/step - loss: 8.6712 - mae: 9.1622\n",
            "Epoch 89/100\n",
            "134/134 [==============================] - 15s 112ms/step - loss: 8.6700 - mae: 9.1610\n",
            "Epoch 90/100\n",
            "134/134 [==============================] - 15s 112ms/step - loss: 8.6687 - mae: 9.1597\n",
            "Epoch 91/100\n",
            "134/134 [==============================] - 15s 112ms/step - loss: 8.6675 - mae: 9.1585\n",
            "Epoch 92/100\n",
            "134/134 [==============================] - 15s 113ms/step - loss: 8.6696 - mae: 9.1607\n",
            "Epoch 93/100\n",
            "134/134 [==============================] - 15s 113ms/step - loss: 8.6693 - mae: 9.1603\n",
            "Epoch 94/100\n",
            "134/134 [==============================] - 15s 113ms/step - loss: 8.6681 - mae: 9.1592\n",
            "Epoch 95/100\n",
            "134/134 [==============================] - 16s 117ms/step - loss: 8.6663 - mae: 9.1573\n",
            "Epoch 96/100\n",
            "134/134 [==============================] - 15s 112ms/step - loss: 8.6683 - mae: 9.1593\n",
            "Epoch 97/100\n",
            "134/134 [==============================] - 15s 112ms/step - loss: 8.6668 - mae: 9.1579\n",
            "Epoch 98/100\n",
            "134/134 [==============================] - 15s 112ms/step - loss: 8.6657 - mae: 9.1567\n",
            "Epoch 99/100\n",
            "134/134 [==============================] - 15s 112ms/step - loss: 8.6674 - mae: 9.1584\n",
            "Epoch 100/100\n",
            "134/134 [==============================] - 15s 112ms/step - loss: 8.6659 - mae: 9.1568\n"
          ],
          "name": "stdout"
        }
      ]
    },
    {
      "cell_type": "code",
      "metadata": {
        "id": "ITi9CGLEdr6N",
        "colab_type": "code",
        "colab": {
          "base_uri": "https://localhost:8080/",
          "height": 298
        },
        "outputId": "99297d9f-1573-4d0b-9994-a830e5af822b"
      },
      "source": [
        "loss = history.history['loss']\n",
        "\n",
        "epochs = 100\n",
        "jarak_epochs = range(epochs)\n",
        "\n",
        "plt.plot(jarak_epochs, loss, label='Error training')\n",
        "plt.legend(loc='upper right')\n",
        "plt.title('Error training')"
      ],
      "execution_count": 17,
      "outputs": [
        {
          "output_type": "execute_result",
          "data": {
            "text/plain": [
              "Text(0.5, 1.0, 'Error training')"
            ]
          },
          "metadata": {
            "tags": []
          },
          "execution_count": 17
        },
        {
          "output_type": "display_data",
          "data": {
            "image/png": "[encoded data removed]",
            "text/plain": [
              "<Figure size 432x288 with 1 Axes>"
            ]
          },
          "metadata": {
            "tags": [],
            "needs_background": "light"
          }
        }
      ]
    },
    {
      "cell_type": "code",
      "metadata": {
        "id": "Qa98JcNTppIe",
        "colab_type": "code",
        "colab": {}
      },
      "source": [
        ""
      ],
      "execution_count": null,
      "outputs": []
    }
  ]
}